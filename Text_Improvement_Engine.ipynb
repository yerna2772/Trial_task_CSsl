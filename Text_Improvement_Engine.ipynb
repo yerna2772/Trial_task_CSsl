{
  "nbformat": 4,
  "nbformat_minor": 0,
  "metadata": {
    "colab": {
      "provenance": [],
      "authorship_tag": "ABX9TyMktGIFZcg8OlxF2YYBfwNf",
      "include_colab_link": true
    },
    "kernelspec": {
      "name": "python3",
      "display_name": "Python 3"
    },
    "language_info": {
      "name": "python"
    }
  },
  "cells": [
    {
      "cell_type": "markdown",
      "metadata": {
        "id": "view-in-github",
        "colab_type": "text"
      },
      "source": [
        "<a href=\"https://colab.research.google.com/github/yerna2772/Trial_task_CSsl/blob/main/Text_Improvement_Engine.ipynb\" target=\"_parent\"><img src=\"https://colab.research.google.com/assets/colab-badge.svg\" alt=\"Open In Colab\"/></a>"
      ]
    },
    {
      "cell_type": "code",
      "execution_count": 4,
      "metadata": {
        "colab": {
          "base_uri": "https://localhost:8080/"
        },
        "id": "E4GJtbiYlqET",
        "outputId": "9545df5c-d723-444b-c6d0-b95849c3d370"
      },
      "outputs": [
        {
          "output_type": "stream",
          "name": "stdout",
          "text": [
            "Collecting transformers\n",
            "  Downloading transformers-4.34.1-py3-none-any.whl (7.7 MB)\n",
            "\u001b[2K     \u001b[90m━━━━━━━━━━━━━━━━━━━━━━━━━━━━━━━━━━━━━━━━\u001b[0m \u001b[32m7.7/7.7 MB\u001b[0m \u001b[31m28.1 MB/s\u001b[0m eta \u001b[36m0:00:00\u001b[0m\n",
            "\u001b[?25hRequirement already satisfied: filelock in /usr/local/lib/python3.10/dist-packages (from transformers) (3.12.4)\n",
            "Collecting huggingface-hub<1.0,>=0.16.4 (from transformers)\n",
            "  Downloading huggingface_hub-0.18.0-py3-none-any.whl (301 kB)\n",
            "\u001b[2K     \u001b[90m━━━━━━━━━━━━━━━━━━━━━━━━━━━━━━━━━━━━━━━━\u001b[0m \u001b[32m302.0/302.0 kB\u001b[0m \u001b[31m31.6 MB/s\u001b[0m eta \u001b[36m0:00:00\u001b[0m\n",
            "\u001b[?25hRequirement already satisfied: numpy>=1.17 in /usr/local/lib/python3.10/dist-packages (from transformers) (1.23.5)\n",
            "Requirement already satisfied: packaging>=20.0 in /usr/local/lib/python3.10/dist-packages (from transformers) (23.2)\n",
            "Requirement already satisfied: pyyaml>=5.1 in /usr/local/lib/python3.10/dist-packages (from transformers) (6.0.1)\n",
            "Requirement already satisfied: regex!=2019.12.17 in /usr/local/lib/python3.10/dist-packages (from transformers) (2023.6.3)\n",
            "Requirement already satisfied: requests in /usr/local/lib/python3.10/dist-packages (from transformers) (2.31.0)\n",
            "Collecting tokenizers<0.15,>=0.14 (from transformers)\n",
            "  Downloading tokenizers-0.14.1-cp310-cp310-manylinux_2_17_x86_64.manylinux2014_x86_64.whl (3.8 MB)\n",
            "\u001b[2K     \u001b[90m━━━━━━━━━━━━━━━━━━━━━━━━━━━━━━━━━━━━━━━━\u001b[0m \u001b[32m3.8/3.8 MB\u001b[0m \u001b[31m64.4 MB/s\u001b[0m eta \u001b[36m0:00:00\u001b[0m\n",
            "\u001b[?25hCollecting safetensors>=0.3.1 (from transformers)\n",
            "  Downloading safetensors-0.4.0-cp310-cp310-manylinux_2_17_x86_64.manylinux2014_x86_64.whl (1.3 MB)\n",
            "\u001b[2K     \u001b[90m━━━━━━━━━━━━━━━━━━━━━━━━━━━━━━━━━━━━━━━━\u001b[0m \u001b[32m1.3/1.3 MB\u001b[0m \u001b[31m52.9 MB/s\u001b[0m eta \u001b[36m0:00:00\u001b[0m\n",
            "\u001b[?25hRequirement already satisfied: tqdm>=4.27 in /usr/local/lib/python3.10/dist-packages (from transformers) (4.66.1)\n",
            "Requirement already satisfied: fsspec>=2023.5.0 in /usr/local/lib/python3.10/dist-packages (from huggingface-hub<1.0,>=0.16.4->transformers) (2023.6.0)\n",
            "Requirement already satisfied: typing-extensions>=3.7.4.3 in /usr/local/lib/python3.10/dist-packages (from huggingface-hub<1.0,>=0.16.4->transformers) (4.5.0)\n",
            "Collecting huggingface-hub<1.0,>=0.16.4 (from transformers)\n",
            "  Downloading huggingface_hub-0.17.3-py3-none-any.whl (295 kB)\n",
            "\u001b[2K     \u001b[90m━━━━━━━━━━━━━━━━━━━━━━━━━━━━━━━━━━━━━━━━\u001b[0m \u001b[32m295.0/295.0 kB\u001b[0m \u001b[31m28.5 MB/s\u001b[0m eta \u001b[36m0:00:00\u001b[0m\n",
            "\u001b[?25hRequirement already satisfied: charset-normalizer<4,>=2 in /usr/local/lib/python3.10/dist-packages (from requests->transformers) (3.3.0)\n",
            "Requirement already satisfied: idna<4,>=2.5 in /usr/local/lib/python3.10/dist-packages (from requests->transformers) (3.4)\n",
            "Requirement already satisfied: urllib3<3,>=1.21.1 in /usr/local/lib/python3.10/dist-packages (from requests->transformers) (2.0.7)\n",
            "Requirement already satisfied: certifi>=2017.4.17 in /usr/local/lib/python3.10/dist-packages (from requests->transformers) (2023.7.22)\n",
            "Installing collected packages: safetensors, huggingface-hub, tokenizers, transformers\n",
            "Successfully installed huggingface-hub-0.17.3 safetensors-0.4.0 tokenizers-0.14.1 transformers-4.34.1\n"
          ]
        }
      ],
      "source": [
        "!pip install transformers\n"
      ]
    },
    {
      "cell_type": "code",
      "source": [
        "import re\n",
        "import numpy as np\n",
        "from transformers import AutoModel, AutoTokenizer\n",
        "from sklearn.metrics.pairwise import cosine_similarity\n",
        "import torch\n",
        "import sys\n",
        "from pprint import pprint\n",
        "import pandas as pd\n",
        "\n",
        "file_path_text = '/content/sample_text.txt'\n",
        "with open(file_path_text, 'r') as file:\n",
        "    Text = file.read()\n",
        "\n",
        "standardized_phrases_df = pd.read_csv('/content/Standardised terms.csv')\n",
        "column_name = 'Optimal performance'\n",
        "standardized_phrases = [column_name] + standardized_phrases_df[column_name].tolist()\n",
        "\n",
        "\n",
        "\n",
        "model_name = \"bert-base-uncased\"\n",
        "tokenizer = AutoTokenizer.from_pretrained(model_name)\n",
        "model = AutoModel.from_pretrained(model_name)\n",
        "\n",
        "\n",
        "\n",
        "sentences = re.split(r'[.!?]\\s', Text)\n",
        "\n",
        "similarity_threshold = 0.6\n",
        "\n",
        "def generate_ngrams(text, n):\n",
        "  words = text.split()\n",
        "  ngrams = [' '.join(words[i:i + n]) for i in range(len(words) - n + 1)]\n",
        "  return ngrams\n",
        "\n",
        "for sentence in sentences:\n",
        "  phrases = generate_ngrams(sentence, 3)\n",
        "  max_similarity_score = 0\n",
        "  for phrase in phrases :\n",
        "\n",
        "    input_tokens = tokenizer(phrase, padding=True, truncation=True, return_tensors=\"pt\")\n",
        "\n",
        "    input_embeddings = model(**input_tokens).last_hidden_state.mean(dim=1)\n",
        "\n",
        "    for standard_phrase in standardized_phrases:\n",
        "      standard_tokens = tokenizer(standard_phrase, padding=True, truncation=True, return_tensors=\"pt\")\n",
        "      standard_embeddings = model(**standard_tokens).last_hidden_state.mean(dim=1)\n",
        "\n",
        "      similarity_scores = cosine_similarity(input_embeddings.detach().numpy(), standard_embeddings.detach().numpy())\n",
        "\n",
        "      suggestions = []\n",
        "\n",
        "      if similarity_scores[0][0] >= similarity_threshold and similarity_scores[0][0] > max_similarity_score:\n",
        "        max_similarity_score = similarity_scores[0][0]\n",
        "        best_sentence = sentence\n",
        "        best_phrase = phrase\n",
        "        best_standard_phrase = standard_phrase\n",
        "\n",
        "  if max_similarity_score >= similarity_threshold:\n",
        "    pprint(f\"Best sentence: {best_sentence}, Best phrase: {best_phrase}, Best standart phase {best_standard_phrase}, Score: {max_similarity_score}\")\n",
        "\n",
        "  else:\n",
        "    pprint(\"No suitable recommendation found.\")"
      ],
      "metadata": {
        "colab": {
          "base_uri": "https://localhost:8080/"
        },
        "id": "qGLt1BgK30A1",
        "outputId": "25dcbae5-70f9-4001-f4d5-c6e610dcf8f1"
      },
      "execution_count": null,
      "outputs": [
        {
          "output_type": "stream",
          "name": "stdout",
          "text": [
            "(\"Best sentence: In today's meeting, we discussed a variety of issues \"\n",
            " 'affecting our department, Best phrase: variety of issues, Best standart '\n",
            " 'phase Foster innovation, Score: 0.728350043296814')\n",
            "('Best sentence: The weather was unusually sunny, a pleasant backdrop to our '\n",
            " 'serious discussions, Best phrase: a pleasant backdrop, Best standart phase '\n",
            " 'Gauge effectiveness, Score: 0.6793681383132935')\n"
          ]
        }
      ]
    }
  ]
}